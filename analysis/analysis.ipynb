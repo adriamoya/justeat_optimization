{
 "cells": [
  {
   "cell_type": "markdown",
   "metadata": {},
   "source": [
    "# Delivery Order Analysis Task\n",
    "We provide a small data sample about a series of order deliveries extracted from a specific day.\n",
    "\n",
    "The homework requires to investigate it, by first answering a series of pre-defined questions, and then, by freely propose additional searches and analysis that will help understanding the data and extract other important insights.\n",
    "\n",
    "The resulting analysis should be presented with a Jupyter notebook, preferably with Python.\n",
    "\n",
    "## Analysis\n",
    "* Number of drivers available in average per hour and for each order invitation. Any area in which we need to increase the coverage? maybe in a certain time range?\n",
    "* Statistics and quality of the automatic assignments. How is it working? Can you estimate its performance?\n",
    "* Quality of the estimation time the driver will take to arrive at the pick-up and drop-off (called estimated_arrival in the JSON). This is a value that is estimated by our Dispatcher algorithm. How is it doing our estimator?\n",
    "* Drivers Performance: avg. time to accept a job, avg. rejection (i.e., order that goes in timeout because not accepted), avg. time for delivery, any other?\n",
    "Note that these are kind of Business Questions: there can be cases in which there is not an easy/possible answer, but also cases that lead to deeper investigations and new questions."
   ]
  },
  {
   "cell_type": "markdown",
   "metadata": {},
   "source": [
    "---"
   ]
  },
  {
   "cell_type": "code",
   "execution_count": 1,
   "metadata": {
    "collapsed": true
   },
   "outputs": [],
   "source": [
    "# imports\n",
    "\n",
    "%matplotlib inline\n",
    "\n",
    "import json\n",
    "import pprint\n",
    "import numpy as np\n",
    "import pandas as pd\n",
    "import matplotlib.pyplot as plt\n",
    "from matplotlib.dates import date2num\n",
    "from datetime import datetime, timedelta\n",
    "\n",
    "\n",
    "pp = pprint.PrettyPrinter(indent=4)"
   ]
  },
  {
   "cell_type": "code",
   "execution_count": 2,
   "metadata": {
    "collapsed": true
   },
   "outputs": [],
   "source": [
    "# read data\n",
    "data = []\n",
    "with open('./orders-2018-01-27.log') as f:\n",
    "    for line in f:\n",
    "        data.append(json.loads(line.encode('utf-8')))\n",
    "        \n",
    "# pp.pprint(data[0])"
   ]
  },
  {
   "cell_type": "markdown",
   "metadata": {},
   "source": [
    "## Data exploration"
   ]
  },
  {
   "cell_type": "code",
   "execution_count": 3,
   "metadata": {},
   "outputs": [
    {
     "name": "stdout",
     "output_type": "stream",
     "text": [
      "id:\t\t\t5a6c6552fe78590001016128\n",
      "driver id: \t\t59dd48a9d502cf00014e2139\n",
      "created at: \t\t2018-01-27T11:41:06.650+0000\n",
      "estimated: \t\t2018-01-27T12:25:00.000+0000\n",
      "pick up done at: \t2018-01-27T12:09:50.678+0000\n",
      "delivered at: \t\t2018-01-27T12:19:16.602+0000\n"
     ]
    }
   ],
   "source": [
    "# order id\n",
    "print(\"id:\" + \"\\t\\t\\t\" + data[4][\"_id\"][\"$oid\"])\n",
    "\n",
    "# driver id\n",
    "print(\"driver id: \" + \"\\t\\t\" + data[4][\"dispatch_current_rank\"][\"driver_id\"])\n",
    "\n",
    "# created\n",
    "print(\"created at: \" + \"\\t\\t\" + data[4][\"created_at\"][\"$date\"])\n",
    "\n",
    "# estimated\n",
    "print(\"estimated: \" + \"\\t\\t\" + data[4][\"estimated_time\"][\"$date\"])\n",
    "\n",
    "# pick up done\n",
    "print(\"pick up done at: \" + \"\\t\" + data[4][\"pickup_done_at\"][\"$date\"])\n",
    "\n",
    "# delivery\n",
    "print(\"delivered at: \" + \"\\t\\t\" + data[4][\"delivery_done_at\"][\"$date\"])"
   ]
  },
  {
   "cell_type": "code",
   "execution_count": 4,
   "metadata": {
    "collapsed": true
   },
   "outputs": [],
   "source": [
    "# convert to pandas dataframe\n",
    "df = pd.DataFrame(data)"
   ]
  },
  {
   "cell_type": "code",
   "execution_count": 5,
   "metadata": {},
   "outputs": [
    {
     "data": {
      "text/html": [
       "<div>\n",
       "<style>\n",
       "    .dataframe thead tr:only-child th {\n",
       "        text-align: right;\n",
       "    }\n",
       "\n",
       "    .dataframe thead th {\n",
       "        text-align: left;\n",
       "    }\n",
       "\n",
       "    .dataframe tbody tr th {\n",
       "        vertical-align: top;\n",
       "    }\n",
       "</style>\n",
       "<table border=\"1\" class=\"dataframe\">\n",
       "  <thead>\n",
       "    <tr style=\"text-align: right;\">\n",
       "      <th></th>\n",
       "      <th>_id</th>\n",
       "      <th>_keywords</th>\n",
       "      <th>auto_assignment_count</th>\n",
       "      <th>cash_on_delivery</th>\n",
       "      <th>company_id</th>\n",
       "      <th>created_at</th>\n",
       "      <th>delivery_done_at</th>\n",
       "      <th>dispatch_current_rank</th>\n",
       "      <th>dispatch_driver_ranking</th>\n",
       "      <th>dispatch_status</th>\n",
       "      <th>...</th>\n",
       "      <th>dt_created_at_min</th>\n",
       "      <th>dt_pickup_done_at</th>\n",
       "      <th>dt_delivery_done_at</th>\n",
       "      <th>dt_estimated_time</th>\n",
       "      <th>total_time</th>\n",
       "      <th>delay_time</th>\n",
       "      <th>delayed</th>\n",
       "      <th>area_id</th>\n",
       "      <th>waypoint_id</th>\n",
       "      <th>driver_id</th>\n",
       "    </tr>\n",
       "  </thead>\n",
       "  <tbody>\n",
       "    <tr>\n",
       "      <th>349</th>\n",
       "      <td>5a6cf6ce38eb7f00019e11ec</td>\n",
       "      <td>[3nb, 4060589, 4np, 5ea4d0b0663549ccb7af343d76...</td>\n",
       "      <td>0</td>\n",
       "      <td>False</td>\n",
       "      <td>{u'$oid': u'5a42bc1f755ec20001abf5d8'}</td>\n",
       "      <td>{u'$date': u'2018-01-27T22:01:50.316+0000'}</td>\n",
       "      <td>{u'$date': u'2018-01-27T22:23:59.120+0000'}</td>\n",
       "      <td>{u'base_version': u'e251825f92def40f28d083c058...</td>\n",
       "      <td>[{u'base_version': u'e251825f92def40f28d083c05...</td>\n",
       "      <td>accepted</td>\n",
       "      <td>...</td>\n",
       "      <td>2018-01-27 22:00:00</td>\n",
       "      <td>2018-01-27 22:19:12.134</td>\n",
       "      <td>2018-01-27 22:23:59.120</td>\n",
       "      <td>2018-01-27 22:40:00</td>\n",
       "      <td>22.146733</td>\n",
       "      <td>-16.014667</td>\n",
       "      <td>0.0</td>\n",
       "      <td>59ef610c7e94fe000185da42</td>\n",
       "      <td>59dd20d22483e200018daae9</td>\n",
       "      <td>59dd1f4e0738f50001df0408</td>\n",
       "    </tr>\n",
       "    <tr>\n",
       "      <th>350</th>\n",
       "      <td>5a6cf7900c0888000154b21a</td>\n",
       "      <td>[1ss, 501010770, 6ah, com, ha0, ha9, javed, kf...</td>\n",
       "      <td>0</td>\n",
       "      <td>False</td>\n",
       "      <td>{u'$oid': u'5a42bc1f755ec20001abf5d8'}</td>\n",
       "      <td>{u'$date': u'2018-01-27T22:05:04.044+0000'}</td>\n",
       "      <td>{u'$date': u'2018-01-27T22:25:34.369+0000'}</td>\n",
       "      <td>{u'base_version': u'07901831812a3d244a428dbfe1...</td>\n",
       "      <td>[{u'base_version': u'a4be56a337e98627a56b129b7...</td>\n",
       "      <td>accepted</td>\n",
       "      <td>...</td>\n",
       "      <td>2018-01-27 22:00:00</td>\n",
       "      <td>2018-01-27 22:17:46.150</td>\n",
       "      <td>2018-01-27 22:25:34.369</td>\n",
       "      <td>2018-01-27 22:40:00</td>\n",
       "      <td>20.505417</td>\n",
       "      <td>-14.427183</td>\n",
       "      <td>0.0</td>\n",
       "      <td>59ef610c7e94fe000185da42</td>\n",
       "      <td>5a4f4b1911e4e60001a98665</td>\n",
       "      <td>59dd4ce0d502cf00014e213e</td>\n",
       "    </tr>\n",
       "    <tr>\n",
       "      <th>351</th>\n",
       "      <td>5a6cf87d45fc9000016f172b</td>\n",
       "      <td>[2ln, 501013121, 6ah, com, domingues, gmail, h...</td>\n",
       "      <td>0</td>\n",
       "      <td>False</td>\n",
       "      <td>{u'$oid': u'5a42bc1f755ec20001abf5d8'}</td>\n",
       "      <td>{u'$date': u'2018-01-27T22:09:01.770+0000'}</td>\n",
       "      <td>{u'$date': u'2018-01-27T22:35:29.160+0000'}</td>\n",
       "      <td>{u'base_version': u'5d62396e50e07133edacfa14c4...</td>\n",
       "      <td>[]</td>\n",
       "      <td>accepted</td>\n",
       "      <td>...</td>\n",
       "      <td>2018-01-27 22:00:00</td>\n",
       "      <td>2018-01-27 22:25:22.126</td>\n",
       "      <td>2018-01-27 22:35:29.160</td>\n",
       "      <td>2018-01-27 22:45:00</td>\n",
       "      <td>26.456500</td>\n",
       "      <td>-9.514000</td>\n",
       "      <td>0.0</td>\n",
       "      <td>59ef610c7e94fe000185da42</td>\n",
       "      <td>5a4f4b1911e4e60001a98665</td>\n",
       "      <td>5a4d24e4b557450001e6f341</td>\n",
       "    </tr>\n",
       "  </tbody>\n",
       "</table>\n",
       "<p>3 rows × 43 columns</p>\n",
       "</div>"
      ],
      "text/plain": [
       "                          _id  \\\n",
       "349  5a6cf6ce38eb7f00019e11ec   \n",
       "350  5a6cf7900c0888000154b21a   \n",
       "351  5a6cf87d45fc9000016f172b   \n",
       "\n",
       "                                             _keywords  auto_assignment_count  \\\n",
       "349  [3nb, 4060589, 4np, 5ea4d0b0663549ccb7af343d76...                      0   \n",
       "350  [1ss, 501010770, 6ah, com, ha0, ha9, javed, kf...                      0   \n",
       "351  [2ln, 501013121, 6ah, com, domingues, gmail, h...                      0   \n",
       "\n",
       "     cash_on_delivery                              company_id  \\\n",
       "349             False  {u'$oid': u'5a42bc1f755ec20001abf5d8'}   \n",
       "350             False  {u'$oid': u'5a42bc1f755ec20001abf5d8'}   \n",
       "351             False  {u'$oid': u'5a42bc1f755ec20001abf5d8'}   \n",
       "\n",
       "                                      created_at  \\\n",
       "349  {u'$date': u'2018-01-27T22:01:50.316+0000'}   \n",
       "350  {u'$date': u'2018-01-27T22:05:04.044+0000'}   \n",
       "351  {u'$date': u'2018-01-27T22:09:01.770+0000'}   \n",
       "\n",
       "                                delivery_done_at  \\\n",
       "349  {u'$date': u'2018-01-27T22:23:59.120+0000'}   \n",
       "350  {u'$date': u'2018-01-27T22:25:34.369+0000'}   \n",
       "351  {u'$date': u'2018-01-27T22:35:29.160+0000'}   \n",
       "\n",
       "                                 dispatch_current_rank  \\\n",
       "349  {u'base_version': u'e251825f92def40f28d083c058...   \n",
       "350  {u'base_version': u'07901831812a3d244a428dbfe1...   \n",
       "351  {u'base_version': u'5d62396e50e07133edacfa14c4...   \n",
       "\n",
       "                               dispatch_driver_ranking dispatch_status  \\\n",
       "349  [{u'base_version': u'e251825f92def40f28d083c05...        accepted   \n",
       "350  [{u'base_version': u'a4be56a337e98627a56b129b7...        accepted   \n",
       "351                                                 []        accepted   \n",
       "\n",
       "               ...              dt_created_at_min       dt_pickup_done_at  \\\n",
       "349            ...            2018-01-27 22:00:00 2018-01-27 22:19:12.134   \n",
       "350            ...            2018-01-27 22:00:00 2018-01-27 22:17:46.150   \n",
       "351            ...            2018-01-27 22:00:00 2018-01-27 22:25:22.126   \n",
       "\n",
       "        dt_delivery_done_at   dt_estimated_time total_time delay_time  \\\n",
       "349 2018-01-27 22:23:59.120 2018-01-27 22:40:00  22.146733 -16.014667   \n",
       "350 2018-01-27 22:25:34.369 2018-01-27 22:40:00  20.505417 -14.427183   \n",
       "351 2018-01-27 22:35:29.160 2018-01-27 22:45:00  26.456500  -9.514000   \n",
       "\n",
       "     delayed                   area_id               waypoint_id  \\\n",
       "349      0.0  59ef610c7e94fe000185da42  59dd20d22483e200018daae9   \n",
       "350      0.0  59ef610c7e94fe000185da42  5a4f4b1911e4e60001a98665   \n",
       "351      0.0  59ef610c7e94fe000185da42  5a4f4b1911e4e60001a98665   \n",
       "\n",
       "                    driver_id  \n",
       "349  59dd1f4e0738f50001df0408  \n",
       "350  59dd4ce0d502cf00014e213e  \n",
       "351  5a4d24e4b557450001e6f341  \n",
       "\n",
       "[3 rows x 43 columns]"
      ]
     },
     "execution_count": 5,
     "metadata": {},
     "output_type": "execute_result"
    }
   ],
   "source": [
    "# data wrangling\n",
    "\n",
    "for index, row in df.iterrows():\n",
    "    \n",
    "    # creating dates\n",
    "    \n",
    "    dt_created_at = datetime.strptime(row['created_at']['$date'][:-5],'%Y-%m-%dT%H:%M:%S.%f')\n",
    "    df.loc[index,'dt_created_at'] = dt_created_at\n",
    "    \n",
    "    # we can use the hour resolution to link each order to an hour interval\n",
    "    df.loc[index,'dt_created_at_min'] = dt_created_at.replace(minute=0, second=0, microsecond=0)\n",
    "    \n",
    "    if row['pickup_done_at'] > 0:\n",
    "        dt_pickup_done_at = datetime.strptime(row['pickup_done_at']['$date'][:-5],'%Y-%m-%dT%H:%M:%S.%f')\n",
    "        df.loc[index,'dt_pickup_done_at'] = dt_pickup_done_at  \n",
    "    \n",
    "    if row['delivery_done_at'] > 0:\n",
    "        dt_delivery_done_at = datetime.strptime(row['delivery_done_at']['$date'][:-5],'%Y-%m-%dT%H:%M:%S.%f')\n",
    "        df.loc[index,'dt_delivery_done_at'] = dt_delivery_done_at\n",
    "        \n",
    "    dt_estimated_time = datetime.strptime(row['estimated_time']['$date'][:-5],'%Y-%m-%dT%H:%M:%S.%f')\n",
    "    df.loc[index, 'dt_estimated_time'] = dt_estimated_time\n",
    "\n",
    "    total_time = (dt_delivery_done_at-dt_created_at).total_seconds()/60\n",
    "    df.loc[index, 'total_time'] = total_time\n",
    "\n",
    "    delay_time = (dt_delivery_done_at-dt_estimated_time).total_seconds()/60\n",
    "    df.loc[index, 'delay_time'] = delay_time\n",
    "    \n",
    "    if delay_time > 0:\n",
    "        df.loc[index, 'delayed'] = 1\n",
    "    else:\n",
    "        df.loc[index, 'delayed'] = 0        \n",
    "        \n",
    "    # creating order id\n",
    "    \n",
    "    if row['_id']:\n",
    "        try:\n",
    "            _id = row['_id']['$oid']\n",
    "        except:\n",
    "            _id = row['_id']\n",
    "        df.loc[index, '_id'] = _id\n",
    "        \n",
    "        \n",
    "    # creating service area id\n",
    "    \n",
    "    if row['service_area_id']:\n",
    "        try:\n",
    "            area_id = row['service_area_id']['$oid']\n",
    "        except:\n",
    "            area_id = row['service_area_id']\n",
    "        df.loc[index, 'area_id'] = area_id\n",
    "        \n",
    "    # creating waypoint id\n",
    "    \n",
    "    if row['way_point_id']:\n",
    "        try:\n",
    "            waypoint_id = row['way_point_id']['$oid']\n",
    "        except:\n",
    "            waypoint_id = row['way_point_id']\n",
    "        df.loc[index, 'waypoint_id'] = waypoint_id\n",
    "        \n",
    "        \n",
    "    # creating the driver id\n",
    "    \n",
    "    if row[\"dispatch_current_rank\"][\"driver_id\"]:\n",
    "        try:\n",
    "            driver_id = row[\"dispatch_current_rank\"][\"driver_id\"][\"$oid\"]\n",
    "        except:\n",
    "            driver_id = row[\"dispatch_current_rank\"][\"driver_id\"]\n",
    "        df.loc[index, 'driver_id'] = driver_id\n",
    "    \n",
    "df.tail(3)"
   ]
  },
  {
   "cell_type": "code",
   "execution_count": 6,
   "metadata": {},
   "outputs": [
    {
     "name": "stdout",
     "output_type": "stream",
     "text": [
      "2018-01-25 18:53:43.873000\n",
      "2018-01-27 22:09:01.770000\n",
      "2018-01-25 20:30:02.533000\n",
      "2018-01-27 22:40:55.784000\n"
     ]
    }
   ],
   "source": [
    "# time history of data\n",
    "\n",
    "print(df['dt_created_at'].min())\n",
    "print(df['dt_created_at'].max())\n",
    "\n",
    "print(df['dt_delivery_done_at'].min())\n",
    "print(df['dt_delivery_done_at'].max())\n"
   ]
  },
  {
   "cell_type": "code",
   "execution_count": 7,
   "metadata": {
    "scrolled": true
   },
   "outputs": [
    {
     "name": "stdout",
     "output_type": "stream",
     "text": [
      "\n",
      "Number of areas: \t4\n",
      "Number of drivers: \t40\n",
      "Number of orders: \t352\n",
      "\n",
      "Number of Drivers per Area\n",
      "                    area_id  driver_id\n",
      "0  59d74a180d73470001565cd1          6\n",
      "1  59ef610c7e94fe000185da42         24\n",
      "2  59ef61bf7e94fe000185da43          6\n",
      "3  59ef6b21366e6500018bc9b9          4\n"
     ]
    }
   ],
   "source": [
    "# there are only 4 different areas\n",
    "print('\\nNumber of areas: ' + '\\t' + str(len(df['area_id'].unique())))\n",
    "\n",
    "# there are 40 different drivers\n",
    "print('Number of drivers: ' + '\\t' + str(len(df['driver_id'].unique())))\n",
    "\n",
    "# there are 352 observations (= )\n",
    "print('Number of orders: ' + '\\t' + str(len(df['_id'].unique())))\n",
    "\n",
    "print('\\nNumber of Drivers per Area')\n",
    "print(df.groupby('area_id')['driver_id'].nunique().reset_index())"
   ]
  },
  {
   "cell_type": "code",
   "execution_count": 8,
   "metadata": {},
   "outputs": [],
   "source": [
    "area_list = list(df['area_id'].unique())"
   ]
  },
  {
   "cell_type": "code",
   "execution_count": 9,
   "metadata": {},
   "outputs": [
    {
     "data": {
      "image/png": "[encoded data removed]",
      "text/plain": [
       "<matplotlib.figure.Figure at 0x7fba0dc49a90>"
      ]
     },
     "metadata": {},
     "output_type": "display_data"
    }
   ],
   "source": [
    "# df.sort_values(by=['dif_min_delivery_estimated'], ascending=False)\n",
    "plt.figure(num=None, figsize=(14, 8))\n",
    "plt.hist(df['delay_time'], bins=range(-60, 60, 1), rwidth=0.6)\n",
    "plt.title('Histogram of Delayed Orders (Time Difference between Delivery and Estimated Arrival Time)')\n",
    "plt.xlabel('Minutes Delayed (+ delayed, - in time)')\n",
    "plt.ylabel('# of Orders')\n",
    "plt.show()"
   ]
  },
  {
   "cell_type": "markdown",
   "metadata": {},
   "source": [
    "We can observe that the majority of the orders are delivered before the estimated arrival time. There are some orders delivered after the estimated arrival time. It seems reasonable to consider that \"as delayed\" orders delivered 5 minutes later than originally scheduled."
   ]
  },
  {
   "cell_type": "code",
   "execution_count": 10,
   "metadata": {},
   "outputs": [
    {
     "data": {
      "image/png": "[encoded data removed]",
      "text/plain": [
       "<matplotlib.figure.Figure at 0x7fba0d44c9d0>"
      ]
     },
     "metadata": {},
     "output_type": "display_data"
    }
   ],
   "source": [
    "# all possible combinations of date of order creation and area id\n",
    "idx = pd.MultiIndex.from_product((df['dt_created_at_min'].unique(), df['area_id'].unique()))\n",
    "\n",
    "# ppd = df.groupby(['dt_created_at_min','area_id']).count().reindex(idx)\n",
    "\n",
    "df2 = df.groupby([df['dt_created_at_min'], df['area_id']], as_index=False)['_id'].count()\n",
    "\n",
    "df1 = pd.DataFrame(idx, columns=['temp'])\n",
    "for index, row in df1.iterrows():\n",
    "    df1.loc[index,'dt_created_at_min'] = row[0][0]\n",
    "    df1.loc[index,'area_id'] = row[0][1]\n",
    "\n",
    "df1 = df1.drop('temp', axis=1)\n",
    "df_created_area = pd.merge(df1, df2, how='left', on=['dt_created_at_min','area_id'])\n",
    "\n",
    "\n",
    "# focus on >= 20180127\n",
    "\n",
    "df_created_area = df_created_area[df_created_area['dt_created_at_min'] > datetime(2018,1,27,10)]\n",
    "\n",
    "plt.figure(num=None, figsize=(14, 8))\n",
    "\n",
    "color_list = ['b', 'g', 'r', 'y']\n",
    "\n",
    "x = df_created_area['dt_created_at_min'].unique()\n",
    "\n",
    "v = df_created_area[df_created_area['area_id']==area_list[0]]['_id']\n",
    "u = df_created_area[df_created_area['area_id']==area_list[1]]['_id']\n",
    "y = df_created_area[df_created_area['area_id']==area_list[2]]['_id']\n",
    "z = df_created_area[df_created_area['area_id']==area_list[3]]['_id']\n",
    "\n",
    "w = 700000000000 # time offset for plotting bars of different areas (not really elegant ...)\n",
    "\n",
    "ax = plt.subplot(111)\n",
    "ax.bar(x,     v, width=0.0075, color=color_list[0], align='edge')\n",
    "ax.bar(x+w,   u, width=0.0075, color=color_list[1], align='edge')\n",
    "ax.bar(x+2*w, y, width=0.0075, color=color_list[2], align='edge')\n",
    "ax.bar(x+3*w, z, width=0.0075, color=color_list[3], align='edge')\n",
    "\n",
    "ax.legend((area_list[0],area_list[1],area_list[2],area_list[3]), loc='upper left')\n",
    "ax.xaxis_date()\n",
    "\n",
    "\n",
    "plt.ylabel(\"Number of Orders\")\n",
    "plt.title('Distribution of Orders by Service Area and Time Interval')\n",
    "\n",
    "plt.show()"
   ]
  },
  {
   "cell_type": "markdown",
   "metadata": {},
   "source": [
    "It can be clearly seen that the blue service area has the majority of the orders (most of the time, at each hour, the volume of deliveries made in the blue area is larger than the total volume of deliveries in the rest of the other areas)."
   ]
  },
  {
   "cell_type": "code",
   "execution_count": null,
   "metadata": {},
   "outputs": [
    {
     "data": {
      "text/html": [
       "<div>\n",
       "<style>\n",
       "    .dataframe thead tr:only-child th {\n",
       "        text-align: right;\n",
       "    }\n",
       "\n",
       "    .dataframe thead th {\n",
       "        text-align: left;\n",
       "    }\n",
       "\n",
       "    .dataframe tbody tr th {\n",
       "        vertical-align: top;\n",
       "    }\n",
       "</style>\n",
       "<table border=\"1\" class=\"dataframe\">\n",
       "  <thead>\n",
       "    <tr style=\"text-align: right;\">\n",
       "      <th></th>\n",
       "      <th>area_id</th>\n",
       "      <th>waypoint_id</th>\n",
       "      <th>count</th>\n",
       "    </tr>\n",
       "  </thead>\n",
       "  <tbody>\n",
       "    <tr>\n",
       "      <th>0</th>\n",
       "      <td>59d74a180d73470001565cd1</td>\n",
       "      <td>59ce160ce21ccb00018947f1</td>\n",
       "      <td>51</td>\n",
       "    </tr>\n",
       "    <tr>\n",
       "      <th>1</th>\n",
       "      <td>59ef610c7e94fe000185da42</td>\n",
       "      <td>59dd1dd45771ad000198c611</td>\n",
       "      <td>19</td>\n",
       "    </tr>\n",
       "    <tr>\n",
       "      <th>2</th>\n",
       "      <td>59ef610c7e94fe000185da42</td>\n",
       "      <td>59dd1fe40738f50001df040a</td>\n",
       "      <td>32</td>\n",
       "    </tr>\n",
       "    <tr>\n",
       "      <th>3</th>\n",
       "      <td>59ef610c7e94fe000185da42</td>\n",
       "      <td>59dd206cae6ef50001ea5bd8</td>\n",
       "      <td>56</td>\n",
       "    </tr>\n",
       "    <tr>\n",
       "      <th>4</th>\n",
       "      <td>59ef610c7e94fe000185da42</td>\n",
       "      <td>59dd20d22483e200018daae9</td>\n",
       "      <td>66</td>\n",
       "    </tr>\n",
       "    <tr>\n",
       "      <th>5</th>\n",
       "      <td>59ef610c7e94fe000185da42</td>\n",
       "      <td>5a4f4b1911e4e60001a98665</td>\n",
       "      <td>37</td>\n",
       "    </tr>\n",
       "    <tr>\n",
       "      <th>6</th>\n",
       "      <td>59ef61bf7e94fe000185da43</td>\n",
       "      <td>59dd2014c13c58000103077d</td>\n",
       "      <td>43</td>\n",
       "    </tr>\n",
       "    <tr>\n",
       "      <th>7</th>\n",
       "      <td>59ef6b21366e6500018bc9b9</td>\n",
       "      <td>59dd1f202483e200018daadd</td>\n",
       "      <td>48</td>\n",
       "    </tr>\n",
       "  </tbody>\n",
       "</table>\n",
       "</div>"
      ],
      "text/plain": [
       "                    area_id               waypoint_id  count\n",
       "0  59d74a180d73470001565cd1  59ce160ce21ccb00018947f1     51\n",
       "1  59ef610c7e94fe000185da42  59dd1dd45771ad000198c611     19\n",
       "2  59ef610c7e94fe000185da42  59dd1fe40738f50001df040a     32\n",
       "3  59ef610c7e94fe000185da42  59dd206cae6ef50001ea5bd8     56\n",
       "4  59ef610c7e94fe000185da42  59dd20d22483e200018daae9     66\n",
       "5  59ef610c7e94fe000185da42  5a4f4b1911e4e60001a98665     37\n",
       "6  59ef61bf7e94fe000185da43  59dd2014c13c58000103077d     43\n",
       "7  59ef6b21366e6500018bc9b9  59dd1f202483e200018daadd     48"
      ]
     },
     "execution_count": 11,
     "metadata": {},
     "output_type": "execute_result"
    }
   ],
   "source": [
    "df.groupby(['area_id', 'waypoint_id']).size().reset_index().rename(columns={0:'count'})"
   ]
  },
  {
   "cell_type": "markdown",
   "metadata": {},
   "source": [
    "We can see that there are multiple waypoints in blue area to channel the high demand of orders"
   ]
  },
  {
   "cell_type": "code",
   "execution_count": null,
   "metadata": {},
   "outputs": [],
   "source": [
    "# Temporal distribution of orders by Area and Hour Interval\n",
    "\n",
    "f, axarr = plt.subplots(2, 2, figsize=(15,15))\n",
    "\n",
    "k = 0\n",
    "for i in range(0,2):\n",
    "    for j in range(0,2):\n",
    "        df2 = df[df['area_id']==area_list[k]][['driver_id', 'dt_created_at', 'dt_delivery_done_at']]\n",
    "        df2 = df2.dropna()\n",
    "        df2.amin = pd.to_datetime(df2['dt_created_at']).astype(datetime)\n",
    "        df2.amax = pd.to_datetime(df2['dt_delivery_done_at']).astype(datetime)\n",
    "        axarr[i, j].hlines(df2.index, date2num(df2.amin), date2num(df2.amax), color=color_list[k])\n",
    "        axarr[i, j].set_xlim(datetime(2018,1,27,11,0,0),datetime(2018,1,27,23,0,0))\n",
    "        axarr[i, j].set_title(area_list[k])\n",
    "        axarr[i, j].set_ylabel('Drivers')\n",
    "        k += 1\n",
    "\n",
    "plt.show()  "
   ]
  },
  {
   "cell_type": "markdown",
   "metadata": {},
   "source": [
    "There are no further conclusions that can be extracted from charts: \n",
    "* blue area has way more orders\n",
    "* perhaps the yellow area (`59d74a180d73470001565cd1`) seems to experiment longer delivery times (from order creation to delivery)"
   ]
  },
  {
   "cell_type": "code",
   "execution_count": null,
   "metadata": {},
   "outputs": [],
   "source": [
    "print('')\n",
    "print('Mean of Total Time per Area')\n",
    "print('*'*100)\n",
    "print(df.groupby('area_id')['total_time'].mean())\n",
    "print('')\n",
    "\n",
    "# compute the mean of the delay time per area (leave out non-delayed orders)\n",
    "print('Mean of Delay Time per Area')\n",
    "print('*'*100)\n",
    "print(df[df['delayed']==1].groupby('area_id')['delay_time'].mean())\n"
   ]
  },
  {
   "cell_type": "markdown",
   "metadata": {},
   "source": [
    "* Yes, there is correlation between longer delivery times and delays.\n",
    "* The order of magnitude of these timings seems reasonable."
   ]
  },
  {
   "cell_type": "markdown",
   "metadata": {},
   "source": [
    "---"
   ]
  },
  {
   "cell_type": "markdown",
   "metadata": {},
   "source": [
    "## Number of drivers available per hour interval and service area\n",
    "\n",
    "Number of drivers available in average per hour and for each order invitation. Any area in which we need to increase the coverage? maybe in a certain time range?\n",
    "\n",
    "__Data Interpretation__\n",
    "\n",
    "* The dispatch system generates a ranking of drivers that are suitable to pick up and drop off deliveries. The ranking, if generated, is shown as a list of drivers (`dispatch_driver_ranking`). Further, the driver that is actually assigned to the order is the driver included in the `dispatch_current_rank`. The dispatcher also creates a list of jobs for each driver with the estimated arrival and leave deadlines (e.g., pick-up and delivery jobs). All this data is estimated by the dispatcher algorithm.\n",
    "\n",
    "* Additionally, each order contains the estimated delivery deadline given by Just Eat (`estimated_time`).\n",
    "\n",
    "* Finally, the actual times when the order delivery is picked up and delivered by the actual driver are also included in the order data (`pickup_done_at`, `delivery_done_at`, ...).\n",
    "\n",
    "__Assumptions__\n",
    "\n",
    "* The number of drivers available for a given order are all the drivers considered and ranked by the dispatch algorithm plus the actual driver that eventually carries out the delivery.\n",
    "* We will reference all order calculations to its creation time (in this way we can contrast different information at the same point in time).\n",
    "* Delays are calculated using the estimated delivery deadline given by Just Eat (`estimated_time - deliver_done_at`).\n",
    "\n",
    "__Caveats__\n",
    "\n",
    "* There might be cases where a delivery was created in an hour interval but the delay occurred in the following hour interval. In those cases we are still anchoring that delay to the creation time of the order.\n",
    "\n",
    "__Approach__\n",
    "\n",
    "Based on these assumptions I can approximate how many drivers are available (= number of drivers ranked by the dispatcher + actual driver) for each hour interval and service area."
   ]
  },
  {
   "cell_type": "code",
   "execution_count": null,
   "metadata": {
    "collapsed": true
   },
   "outputs": [],
   "source": [
    "# the number of drivers available for each order invitation is equal to the sum of all \n",
    "# the drivers included in the ranking and the current driver\n",
    "\n",
    "for index, row in df.iterrows():\n",
    "    n_drivers = 1 # current driver\n",
    "    if row['dispatch_driver_ranking']: # the current driver does not overlap with drivers in ranking \n",
    "        try:\n",
    "            n_drivers += len(row['dispatch_driver_ranking'])\n",
    "        except:\n",
    "            pass\n",
    "    df.loc[index, 'n_drivers'] = n_drivers"
   ]
  },
  {
   "cell_type": "code",
   "execution_count": null,
   "metadata": {},
   "outputs": [],
   "source": [
    "df_average = df.groupby('dt_created_at_min')['n_drivers'].mean().reset_index()\n",
    "\n",
    "plt.figure(num=None, figsize=(8, 8))\n",
    "\n",
    "x = df_average['dt_created_at_min'].unique()\n",
    "y = df_average['n_drivers']\n",
    "\n",
    "ax = plt.subplot(111)\n",
    "ax.bar(x, y, width=0.03, align='edge')\n",
    "ax.yaxis.grid(which='major', linewidth=0.5)\n",
    "ax.set_xlim(datetime(2018,1,27,10,0,0), datetime(2018,1,28,0,0,0))\n",
    "ax.xaxis_date()\n",
    "\n",
    "plt.ylabel('Number of Drivers Available in Average')\n",
    "plt.title('Number of Drivers Available in Average per Hour and Order Invitation')\n",
    "\n",
    "plt.show()"
   ]
  },
  {
   "cell_type": "code",
   "execution_count": null,
   "metadata": {},
   "outputs": [],
   "source": [
    "# Number of drivers available in average per hour and area\n",
    " \n",
    "df_average_area = df.groupby(['area_id', 'dt_created_at_min'])['n_drivers'].mean().reset_index()\n",
    "df2 = pd.merge(df1, df_average_area, how='left', on=['dt_created_at_min','area_id'])\n",
    "\n",
    "f, axarr = plt.subplots(2, 2, figsize=(15,15))\n",
    "\n",
    "x = df2['dt_created_at_min'].unique()\n",
    "\n",
    "k = 0\n",
    "for i in range(0,2):\n",
    "    for j in range(0,2):\n",
    "        y = df2[df2['area_id']==area_list[k]]['n_drivers']\n",
    "        axarr[i, j].bar(x, y, width=0.03, align='edge', color=color_list[k])\n",
    "        axarr[i, j].set_xlim(datetime(2018,1,27,11,0,0),datetime(2018,1,27,23,0,0))\n",
    "        axarr[i, j].set_ylim(0, 6)\n",
    "        axarr[i, j].yaxis.grid(which='major', linewidth=0.5)\n",
    "        axarr[i, j].set_title(area_list[k])\n",
    "        k += 1\n",
    "\n",
    "axarr[0, 0].set_ylabel('Number of Drivers Available in Average for Each Order')\n",
    "axarr[1, 0].set_ylabel('Number of Drivers Available in Average for Each Order')\n",
    "\n",
    "plt.show()  "
   ]
  },
  {
   "cell_type": "code",
   "execution_count": null,
   "metadata": {},
   "outputs": [],
   "source": [
    "df.groupby(['area_id', 'waypoint_id'])['n_drivers'].describe()"
   ]
  },
  {
   "cell_type": "markdown",
   "metadata": {},
   "source": [
    "The number of available drivers just shows us one half of the picture...\n",
    "In order to see if we need to increase the coverage we need to check whether the performance is not good at some moment or area (i.e. the concentration of delays).\n",
    "\n",
    "To this end, we can compute the % of orders delayed for each hour interval and area. In order to contrast these findings with the number of available drivers, we will anchor these percentages (orders delayed) to the order creation timestamp (hour interval)."
   ]
  },
  {
   "cell_type": "code",
   "execution_count": null,
   "metadata": {},
   "outputs": [],
   "source": [
    "for index, row in df2.iterrows():\n",
    "    df_temp = df[(df['dt_created_at_min']==row['dt_created_at_min']) & (df['area_id']==row['area_id'])]\n",
    "    df2.loc[index, 'n_orders_delayed'] = df_temp[df_temp['delayed']==1]['delayed'].sum()\n",
    "    df2.loc[index, 'n_orders'] = df_temp['delayed'].count()\n",
    "    if df_temp['delayed'].count() > 0:\n",
    "        df2.loc[index, 'perc_orders_delayed'] = df_temp[df_temp['delayed']==1]['delayed'].sum()/df_temp['delayed'].count()\n",
    "    else:\n",
    "        df2.loc[index, 'perc_orders_delayed'] = 0\n",
    "\n",
    "# check values (OK)\n",
    "\n",
    "print('Total number of orders: ' + '\\t' + str(df2['n_orders'].sum()))\n",
    "print('Total number of orders delayed: ' + str(df2['n_orders_delayed'].sum()))\n",
    "\n",
    "# Number of orders delayed in average per hour and area\n",
    "\n",
    "f, axarr = plt.subplots(2, 2, figsize=(15,15))\n",
    "\n",
    "x = df2['dt_created_at_min'].unique()\n",
    "\n",
    "k = 0\n",
    "for i in range(0,2):\n",
    "    for j in range(0,2):\n",
    "        y = df2[df2['area_id']==area_list[k]]['perc_orders_delayed']\n",
    "        axarr[i, j].bar(x, y, width=0.03, align='edge', color=color_list[k])\n",
    "        axarr[i, j].set_xlim(datetime(2018,1,27,11,0,0),datetime(2018,1,27,23,0,0))\n",
    "        axarr[i, j].set_ylim(0, 1)\n",
    "        axarr[i, j].yaxis.grid(which='major', linewidth=0.5)\n",
    "        axarr[i, j].set_title(area_list[k])\n",
    "        k += 1\n",
    "\n",
    "axarr[0, 0].set_ylabel('% of Orders Delayed')\n",
    "axarr[1, 0].set_ylabel('% of Orders Delayed')\n",
    "\n",
    "plt.show()  "
   ]
  },
  {
   "cell_type": "code",
   "execution_count": null,
   "metadata": {},
   "outputs": [],
   "source": [
    "# Number of orders per hour and area\n",
    "\n",
    "f, axarr = plt.subplots(2, 2, figsize=(15,15))\n",
    "\n",
    "x = df2['dt_created_at_min'].unique()\n",
    "\n",
    "k = 0\n",
    "for i in range(0,2):\n",
    "    for j in range(0,2):\n",
    "        y = df2[df2['area_id']==area_list[k]]['n_orders']\n",
    "        axarr[i, j].bar(x, y, width=0.03, align='edge', color=color_list[k])\n",
    "        axarr[i, j].set_xlim(datetime(2018,1,27,11,0,0),datetime(2018,1,27,23,0,0))\n",
    "        axarr[i, j].set_ylim(0, 34)\n",
    "        axarr[i, j].yaxis.grid(which='major', linewidth=0.5)\n",
    "        axarr[i, j].set_title(area_list[k])\n",
    "        k += 1\n",
    "\n",
    "axarr[0, 0].set_ylabel('Number of Orders')\n",
    "axarr[1, 0].set_ylabel('Number of Orders')\n",
    "\n",
    "plt.show()  "
   ]
  },
  {
   "cell_type": "markdown",
   "metadata": {},
   "source": [
    "## Conclusions\n",
    "\n",
    "So far the analysis yields the following conclusions:\n",
    "* In general, it is during the dinner that there are more orders taken. There are more drivers available and yet more delays.\n",
    "\n",
    "### Good performer\n",
    "* Without a doubt, the red service area (`59ef6b21366e6500018bc9b9`), which has a similar demand compared to green and yellow areas, has barely no delays. It seems that the performance is highly efficient since the number of drivers available (drivers in dispatch ranking) is no larger than the number of drivers available in the rest of areas and deliveries are always in time.\n",
    "\n",
    "### Bad performers\n",
    "* The worst area is the yellow one (`59d74a180d73470001565cd1`). There are consistent delays throughout the day, specially during the lunch and dinner time. The average delay time is roughly 16 minutes and the deliveries take longer than any other area to end (40 minutes). There are just a few drivers available in high-demand hours and yet the delays are always present. An increase in coverage should be considered for this area.\n",
    "\n",
    "* The blue area (`59ef610c7e94fe000185da42`) is the one that generates more orders and concentrates more drivers. There are larger delays during the dinner time and just a few spare drivers. A better coverage or a much more efficient allocation of drivers seems to be the solution to meet the customers needs."
   ]
  },
  {
   "cell_type": "markdown",
   "metadata": {},
   "source": [
    "# Statistics and Quality of Automatic Assignments\n",
    "\n",
    "Statistics and quality of the automatic assignments. How is it working? Can you estimate its performance?\n",
    "\n",
    "__Assumptions__\n",
    "\n",
    "* Automatic assignments are those orders where drivers have NOT been assigned manually (`dispatch_current_rank.warnings`).\n",
    "\n",
    "__Approach__\n",
    "\n",
    "I will check the frequency of the different types of warnings of all automatic orders."
   ]
  },
  {
   "cell_type": "code",
   "execution_count": null,
   "metadata": {
    "scrolled": false
   },
   "outputs": [],
   "source": [
    "# the great majority of orders only have 2 jobs (pick-up and delivery)\n",
    "# there are a few orders that have more than 2 jobs and will not be considered here ...\n",
    "\n",
    "for index, row in df.iterrows():\n",
    "    if row['dispatch_current_rank']['warnings']:\n",
    "        if row['dispatch_current_rank']['warnings'][0] == 'driver_assigned_manually':\n",
    "            df.loc[index, 'manual_assign'] = 1\n",
    "    else:\n",
    "        df.loc[index, 'manual_assign'] = 0\n",
    "        jobs = row['dispatch_current_rank']['jobs']\n",
    "        if len(jobs) == 2:\n",
    "            # sort jobs in ascending order (by estimated_arrival time)\n",
    "            jobs.sort(key=lambda item:item['estimated_arrival'], reverse=False)\n",
    "            \n",
    "            # first job is pickup\n",
    "            dt_dispatch_pickup = datetime.strptime(jobs[0]['estimated_arrival'][:-1],'%Y-%m-%dT%H:%M:%S.%f')\n",
    "            \n",
    "            # second job is dropoff\n",
    "            dt_dispatch_dropoff = datetime.strptime(jobs[1]['estimated_arrival'][:-1],'%Y-%m-%dT%H:%M:%S.%f')\n",
    "            \n",
    "            df.loc[index, 'dt_dispatch_pickup'] = dt_dispatch_pickup\n",
    "            df.loc[index, 'dt_dispatch_dropoff'] = dt_dispatch_dropoff\n",
    "\n",
    "df.head(3)"
   ]
  },
  {
   "cell_type": "code",
   "execution_count": null,
   "metadata": {},
   "outputs": [],
   "source": [
    "# dispatcher warnings (automatic assignments quality)\n",
    "# Note: one order can have more than one warning\n",
    "\n",
    "n_orders_automatic = df['dt_dispatch_pickup'].count() # number of automatic orders with 2 jobs scheduled\n",
    "print(\"\\nTotal amount of automatic orders:\\n\" + str(n_orders_automatic))\n",
    "\n",
    "x_warning = []\n",
    "for warning_list in df['warnings']:\n",
    "    for warning in warning_list:\n",
    "        x_warning.append(warning)\n",
    "        \n",
    "warnings_unique = list(set(x_warning))\n",
    "\n",
    "for warning in warnings_unique:\n",
    "    for index, row in df.iterrows():\n",
    "        warning_count = 0\n",
    "        df.loc[index, warning] = 0\n",
    "        if row['warnings']:\n",
    "            for r_warning in row['warnings']:\n",
    "                if warning == r_warning:\n",
    "                    df.loc[index, warning] = 1\n",
    "                    warning_count += 1\n",
    "\n",
    "for index, row in df.iterrows():\n",
    "    warning_count = 0\n",
    "    for warning in warnings_unique:\n",
    "        warning_count += row[warning]\n",
    "    df.loc[index, 'warning_count'] = warning_count\n",
    "        \n",
    "print(\"\")\n",
    "p_warning = []\n",
    "for warning in warnings_unique:                    \n",
    "    print(warning + \": \\n\" + str(\"{0:.0f}\".format(df[warning].sum())) + \" (\" + str(\"{0:.2f}\".format(df[warning].sum()/n_orders_automatic*100)) + \"%)\\n\")\n",
    "    p_warning.append(df[warning].sum()/n_orders_automatic*100)\n",
    "\n",
    "fig, ax = plt.subplots(figsize=(10, 8))\n",
    "\n",
    "y_pos = np.arange(len(warnings_unique))\n",
    "\n",
    "ax.barh(y_pos, p_warning, align='center')\n",
    "ax.set_yticks(y_pos)\n",
    "ax.set_yticklabels(warnings_unique)\n",
    "ax.invert_yaxis()  # labels read top-to-bottom\n",
    "ax.set_xlabel('% of Automatic Orders')\n",
    "ax.set_xlim(0,100)\n",
    "ax.set_title('Warnings in Automatic Assignments')\n",
    "\n",
    "plt.show()"
   ]
  },
  {
   "cell_type": "markdown",
   "metadata": {},
   "source": [
    "* It can be seen that more than a half of all automatic orders are rejected (order that goes in timeout because not accepted).\n",
    "* Further, the automatic assignment engine seems to have some conflicts with driver version (34% of orders)."
   ]
  },
  {
   "cell_type": "code",
   "execution_count": null,
   "metadata": {},
   "outputs": [],
   "source": [
    "warnings_delay = []\n",
    "for warning in warnings_unique:\n",
    "    warnings_delay.append(df[df[warning]==1]['delayed'].mean()*100)\n",
    "\n",
    "fig, ax = plt.subplots(figsize=(10, 8))\n",
    "\n",
    "y_pos = np.arange(len(warnings_unique))\n",
    "\n",
    "ax.barh(y_pos, warnings_delay, align='center')\n",
    "ax.set_yticks(y_pos)\n",
    "ax.set_yticklabels(warnings_unique)\n",
    "ax.invert_yaxis()  # labels read top-to-bottom\n",
    "ax.set_xlabel('% of Delayed Orders')\n",
    "ax.set_xlim(0,100)\n",
    "ax.set_title('Delays in Automatic Assignments by Warning Type')\n",
    "\n",
    "plt.show()"
   ]
  },
  {
   "cell_type": "markdown",
   "metadata": {},
   "source": [
    "# Quality of estimation time\n",
    "\n",
    "Quality of the estimation time the driver will take to arrive at the pick-up and drop-off (called estimated_arrival in the JSON). This is a value that is estimated by our Dispatcher algorithm. How is it doing our estimator?"
   ]
  },
  {
   "cell_type": "code",
   "execution_count": null,
   "metadata": {
    "scrolled": false
   },
   "outputs": [],
   "source": [
    "# difference between dispatch and real time (pick-up and drop-off)\n",
    "df['dt_pickup_diff'] = df.apply(lambda x: (x['dt_dispatch_pickup']-x['dt_pickup_done_at']).total_seconds()/60, axis=1)\n",
    "df['dt_dropoff_diff'] = df.apply(lambda x: (x['dt_dispatch_dropoff']-x['dt_delivery_done_at']).total_seconds()/60, axis=1)\n",
    "\n",
    "df[['dt_pickup_diff','dt_dropoff_diff']].describe()"
   ]
  },
  {
   "cell_type": "code",
   "execution_count": null,
   "metadata": {
    "scrolled": false
   },
   "outputs": [],
   "source": [
    "f, axarr = plt.subplots(2, 1, figsize=(15,15))\n",
    "\n",
    "axarr[0].hist(df['dt_pickup_diff'], bins=range(-60, 60, 1), rwidth=0.6)\n",
    "axarr[0].yaxis.grid(which='major', linewidth=0.5)\n",
    "axarr[0].set_title('Difference between real and dispatch pick-up time (0< : real pick-up later than dispatch pick-up (underestimation))')\n",
    "\n",
    "axarr[1].hist(df['dt_dropoff_diff'], bins=range(-60, 60, 1), rwidth=0.6)\n",
    "axarr[1].yaxis.grid(which='major', linewidth=0.5)\n",
    "axarr[1].set_title('Difference between real and dispatch drop-off time (0< : real drop-off later than dispatch drop-off (underestimation))')\n",
    "\n",
    "plt.show()"
   ]
  },
  {
   "cell_type": "code",
   "execution_count": null,
   "metadata": {},
   "outputs": [],
   "source": [
    "df[['dt_dispatch_pickup','dt_pickup_done_at','dt_pickup_diff']].sort_values('dt_pickup_diff').head(10)"
   ]
  },
  {
   "cell_type": "code",
   "execution_count": null,
   "metadata": {},
   "outputs": [],
   "source": [
    "df[['dt_dispatch_dropoff','dt_delivery_done_at','dt_dropoff_diff']].sort_values('dt_dropoff_diff').head(10)"
   ]
  },
  {
   "cell_type": "code",
   "execution_count": null,
   "metadata": {},
   "outputs": [],
   "source": [
    "# Mean Absolute Error (MAE) and Root mean squared error (RMSE) are two of the \n",
    "# most common metrics used to measure accuracy for continuous variables. \n",
    "\n",
    "print(\"\\nPick-up time (minutes)\\n\")\n",
    "\n",
    "# RMSE\n",
    "print(\"RMSE: \" + str(\"{0:.2f}\".format((df['dt_pickup_diff']**2).mean()**.5)))\n",
    "\n",
    "# MAE\n",
    "print(\"MAE:  \" + str(\"{0:.2f}\".format(df['dt_pickup_diff'].abs().mean())))\n",
    "\n",
    "\n",
    "print(\"\\nDrop-off time (minutes)\\n\")\n",
    "\n",
    "# RMSE\n",
    "print(\"RMSE: \" + str(\"{0:.2f}\".format((df['dt_dropoff_diff']**2).mean()**.5)))\n",
    "\n",
    "# MAE\n",
    "print(\"MAE:  \" + str(\"{0:.2f}\".format(df['dt_dropoff_diff'].abs().mean())))"
   ]
  },
  {
   "cell_type": "markdown",
   "metadata": {},
   "source": [
    "In this section we have compared the deadlines given by the dispatch algorithm with the real ones. After computing a few statistical metrics, it is clear that there is a deviation between estimated and actual times. In average, such errors are within the 15-20 minute range. \n",
    "\n",
    "The data reveals that all these deviations are caused by the first underestimation of the pick-up deadline: the pick-up time is underestimated and, therefore, the drop-off time is underestimated too (even though the time between pick-up and drop-off might be well adjusted)."
   ]
  },
  {
   "cell_type": "markdown",
   "metadata": {},
   "source": [
    "# Drivers Performance\n",
    "\n",
    "Drivers Performance: avg. time to accept a job, avg. rejection (i.e., order that goes in timeout because not accepted), avg. time for delivery, any other?"
   ]
  },
  {
   "cell_type": "markdown",
   "metadata": {},
   "source": [
    "__Assumptions__\n",
    "* Avg. time to accept a job = Time order created - Time order picked up\n",
    "* Avg. time for delivery = Time order delivered - Time order picked up"
   ]
  },
  {
   "cell_type": "code",
   "execution_count": null,
   "metadata": {},
   "outputs": [],
   "source": [
    "for index, row in df.iterrows():\n",
    "    if row['dt_pickup_done_at']:\n",
    "        df.loc[index, 'accepted_time'] = (row['dt_pickup_done_at']-row['dt_created_at']).total_seconds()/60\n",
    "        df.loc[index, 'delivery_time'] = (row['dt_delivery_done_at']-row['dt_pickup_done_at']).total_seconds()/60\n",
    "        df.loc[index, 'accepted_time_dispatch'] = (row['dt_dispatch_pickup']-row['dt_created_at']).total_seconds()/60\n",
    "        df.loc[index, 'delivery_time_dispatch'] = (row['dt_dispatch_dropoff']-row['dt_dispatch_pickup']).total_seconds()/60\n",
    "        \n",
    "    \n",
    "# results\n",
    "print \"\\nAvg. time to accept a job: \\t\\t\", str(\"{0:.2f}\".format(df['accepted_time'].mean())), \" minutes\"\n",
    "print \"Avg. time for delivery: \\t\\t\", str(\"{0:.2f}\".format(df['delivery_time'].mean())), \" minutes\"\n",
    "print \"Avg. total time: \\t\\t\\t\", str(\"{0:.2f}\".format(df['total_time'].mean())), \" minutes\"\n",
    "print \"\\nAvg. time to accept a job (dispatch): \\t\", str(\"{0:.2f}\".format(df['accepted_time_dispatch'].mean())), \" minutes (avg. time b/w creation and est. arrival at pick-up by dispatch)\"\n",
    "print \"Avg. time for delivery (dispatch): \\t\", str(\"{0:.2f}\".format(df['delivery_time_dispatch'].mean())), \" minutes (avg. time b/w est. arrival at pick-up and drop-off by dispatch)\"\n",
    "print \"\\nAvg. rejection: \\t\\t\\t\", str(\"{0:.1f}%\".format(df['order_invite_rejected'].mean()*100))\n",
    "print \"Avg. timeout: \\t\\t\\t\\t\", str(\"{0:.1f}%\".format(df['order_invite_timeout'].mean()*100))\n",
    "print \"\\n\", str(\"{0:.1f}%\".format(df[df['order_invite_rejected']==1]['order_invite_timeout'].mean()*100)), \"of the orders that are rejected go timeout\""
   ]
  },
  {
   "cell_type": "code",
   "execution_count": null,
   "metadata": {},
   "outputs": [],
   "source": [
    "df[['accepted_time', 'delivery_time']].describe()"
   ]
  },
  {
   "cell_type": "markdown",
   "metadata": {},
   "source": [
    "From the statistics above it can be concluded that there is a significantly large time to accept a job (based on our criteria to calculate it). In average, the job acceptance (from order creation to pick-up) consumes around a 70% of the total time (from order creation to delivery). This fact goes in line with the large percentage of timed out orders.\n",
    "\n",
    "We can also compare the estimated time of arrival at pick-up location given by the dispatch algorithm (4.50 minutes) with the actual time at pick-up (22.18 minutes). In contrast, the average time that takes to deliver the order from pick-up to destination is 9.80 minutes, which is similar to the 12.18 minutes estimated by the dispatcher \n",
    "\n",
    "There is enough evidence to associate poor perfomance with large acceptance times rather than large delivery times (from pick-up to drop-off). "
   ]
  },
  {
   "cell_type": "markdown",
   "metadata": {},
   "source": [
    "# Next steps\n",
    "\n",
    "Further analyses to get more insights:"
   ]
  },
  {
   "cell_type": "markdown",
   "metadata": {},
   "source": [
    "## Waypoints"
   ]
  },
  {
   "cell_type": "code",
   "execution_count": null,
   "metadata": {},
   "outputs": [],
   "source": [
    "df.groupby(['area_id','waypoint_id']).size().reset_index().rename(columns={0:'count'})"
   ]
  },
  {
   "cell_type": "markdown",
   "metadata": {},
   "source": [
    "As expected, the blue area (`59ef610c7e94fe000185da42`) has multiple waypoints whereas the others only have one. It makes sense since the number of orders is way more larger in that service area."
   ]
  },
  {
   "cell_type": "code",
   "execution_count": null,
   "metadata": {},
   "outputs": [],
   "source": [
    "df.groupby(['area_id', 'waypoint_id'])['warning_count'].describe()"
   ]
  },
  {
   "cell_type": "code",
   "execution_count": null,
   "metadata": {},
   "outputs": [],
   "source": [
    "df.groupby(['area_id', 'waypoint_id'])['order_invite_rejected'].mean().reset_index()"
   ]
  },
  {
   "cell_type": "markdown",
   "metadata": {},
   "source": [
    "High ratio of order invites rejected in areas `59ef61bf7e94fe000185da43` and `59ef6b21366e6500018bc9b9` (green and red areas)"
   ]
  },
  {
   "cell_type": "code",
   "execution_count": null,
   "metadata": {},
   "outputs": [],
   "source": [
    "df.groupby(['area_id', 'waypoint_id'])['accepted_time'].describe()"
   ]
  },
  {
   "cell_type": "code",
   "execution_count": null,
   "metadata": {},
   "outputs": [],
   "source": [
    "df.groupby(['area_id', 'waypoint_id'])['accepted_time_dispatch'].describe()"
   ]
  },
  {
   "cell_type": "markdown",
   "metadata": {},
   "source": [
    "## Price"
   ]
  },
  {
   "cell_type": "code",
   "execution_count": null,
   "metadata": {},
   "outputs": [],
   "source": [
    "# Price distribution by area\n",
    "\n",
    "f, axarr = plt.subplots(2, 2, figsize=(15,15))\n",
    "\n",
    "x = df2['dt_created_at_min'].unique()\n",
    "\n",
    "k = 0\n",
    "for i in range(0,2):\n",
    "    for j in range(0,2):\n",
    "        axarr[i, j].hist(df[df['area_id']==area_list[k]]['price'], bins=range(0, 100, 1), rwidth=0.6)\n",
    "        axarr[i, j].set_xlim(0, 60)\n",
    "        axarr[i, j].set_ylim(0, 20)\n",
    "        axarr[i, j].yaxis.grid(which='major', linewidth=0.5)\n",
    "        axarr[i, j].set_title(area_list[k])\n",
    "        k += 1\n",
    "\n",
    "axarr[0, 0].set_ylabel('Price distribution')\n",
    "axarr[1, 0].set_ylabel('Price distribution')\n",
    "\n",
    "plt.show()  "
   ]
  },
  {
   "cell_type": "code",
   "execution_count": null,
   "metadata": {},
   "outputs": [],
   "source": [
    "df.groupby(['area_id'])['price'].describe()"
   ]
  },
  {
   "cell_type": "code",
   "execution_count": null,
   "metadata": {},
   "outputs": [],
   "source": [
    "df.groupby(['area_id', 'waypoint_id'])['price'].describe()"
   ]
  }
 ],
 "metadata": {
  "celltoolbar": "Raw Cell Format",
  "kernelspec": {
   "display_name": "Python 2",
   "language": "python",
   "name": "python2"
  },
  "language_info": {
   "codemirror_mode": {
    "name": "ipython",
    "version": 2
   },
   "file_extension": ".py",
   "mimetype": "text/x-python",
   "name": "python",
   "nbconvert_exporter": "python",
   "pygments_lexer": "ipython2",
   "version": "2.7.9"
  }
 },
 "nbformat": 4,
 "nbformat_minor": 2
}
