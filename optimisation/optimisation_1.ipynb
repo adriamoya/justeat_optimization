{
 "cells": [
  {
   "cell_type": "markdown",
   "metadata": {},
   "source": [
    "# Shift Planner Modeling Task\n",
    "The goal is to help a very big restaurant, specialised in on-demand food delivery, to manage its fleet of drivers.\n",
    "\n",
    "## Problem Statement\n",
    "The restaurant receives multiple orders every day, and it relies on a sort of forecasting for the next day to estimate how many drivers are required every hour. For example:\n",
    "\n",
    "Given this demand forecast we need to automatically build the shifts respecting certain constraints:\n",
    "\n",
    "* Each shift need to be at least of 4h length.\n",
    "* Each shift cannot be longer than 10h length.\n",
    "* When we cover the hours of the demand, there might be the case in which we allocate more hours (oversupply). This is an acceptable behavior, but we need to minimise these oversupply hours.\n",
    "\n",
    "Data\n",
    "The sample data is available in this dropbox link. It contains some sample cases in JSON format, in which the input includes the forecasted demand and the configuration, such as:\n",
    "```json\n",
    "{\n",
    "  \"config\": {\n",
    "    \"min_shift_hours\": 4,\n",
    "    \"max_shift_hours\": 10,\n",
    "    \"timeout_sec\": 10\n",
    "  },\n",
    "  \"timeslots\": [11, 12, 13, 14, 15, 16, 17, 18, 19, 20, 21, 22],\n",
    "  \"demand\": [0, 1, 1, 1, 1, 5, 5, 5, 5, 5, 5, 1],\n",
    "  \"solution\": {\n",
    "    \"shifts\": []\n",
    "  }\n",
    "}\n",
    "```\n",
    "In the input file, the shifts: [] is obviously empty. The output instead, should be in the same format but with the shifts filled up, as follow:\n",
    "```json\n",
    "{\n",
    "  \"config\": {\n",
    "    \"min_shift_hours\": 4,\n",
    "    \"max_shift_hours\": 10,\n",
    "    \"timeout_sec\": 10\n",
    "  },\n",
    "  \"timeslots\": [11, 12, 13, 14, 15, 16, 17, 18, 19, 20, 21, 22],\n",
    "  \"demand\": [0, 1, 1, 1, 1, 5, 5, 5, 5, 5, 5, 1],\n",
    "  \"solution\": {\n",
    "    \"shifts\": [\n",
    "      [0, 1, 1, 1, 1, 1, 1, 1, 1, 1, 1, 0],\n",
    "      [0, 0, 0, 0, 0, 1, 1, 1, 1, 1, 1, 1],\n",
    "      [0, 0, 0, 0, 0, 1, 1, 1, 1, 1, 1, 0],\n",
    "      [0, 0, 0, 0, 0, 1, 1, 1, 1, 1, 1, 0],\n",
    "      [0, 0, 0, 0, 0, 1, 1, 1, 1, 1, 1, 0]\n",
    "    ]\n",
    "  }\n",
    "}\n",
    "```\n",
    "## Evaluation\n",
    "The solution needs to include:\n",
    "\n",
    "* __Mathematical formulation of the problem__ (to make it clear and understandable independently of the programming language used).\n",
    "* __Implementation__ with the preferred programming language, with the instruction to run the given examples (and more).\n",
    "* __Solutions__ of the forecasted demand shifts in the format defined in the Data section.\n",
    "\n",
    "The evaluation will consider:\n",
    "\n",
    "* __Correctness__ of the model described.\n",
    "* Solution __performance__ (time/quality trade-off).\n",
    "\n",
    "In case of doubts about the problem statement we require the candidate to make her/his assumptions without being blocked."
   ]
  },
  {
   "cell_type": "code",
   "execution_count": 1,
   "metadata": {
    "collapsed": true
   },
   "outputs": [],
   "source": [
    "# imports\n",
    "\n",
    "%matplotlib inline\n",
    "\n",
    "import os\n",
    "import json\n",
    "import math\n",
    "import pprint\n",
    "import pandas as pd\n",
    "import matplotlib.pyplot as plt\n",
    "from itertools import (\n",
    "    permutations, \n",
    "    chain, \n",
    "    combinations, \n",
    "    combinations_with_replacement)\n",
    "\n",
    "pp = pprint.PrettyPrinter(indent=4)"
   ]
  },
  {
   "cell_type": "code",
   "execution_count": 2,
   "metadata": {},
   "outputs": [
    {
     "name": "stdout",
     "output_type": "stream",
     "text": [
      "['ex2-in.json', 'ex3-out.json', 'ex1-in.json', 'ex3-in.json', 'ex2-out.json', 'ex1-out.json']\n"
     ]
    }
   ],
   "source": [
    "# read files\n",
    "\n",
    "path_to_json = 'planning_demand/'\n",
    "json_files = [pos_json for pos_json in os.listdir(path_to_json) if pos_json.endswith('.json')]\n",
    "print(json_files)"
   ]
  },
  {
   "cell_type": "code",
   "execution_count": 3,
   "metadata": {
    "collapsed": true
   },
   "outputs": [],
   "source": [
    "# load json data\n",
    "\n",
    "with open(os.path.join(path_to_json, 'ex1-in.json')) as json_file:\n",
    "    json_ex1_in = json.load(json_file)\n",
    "       \n",
    "with open(os.path.join(path_to_json, 'ex1-out.json')) as json_file:\n",
    "    json_ex1_out = json.load(json_file)\n",
    "\n",
    "with open(os.path.join(path_to_json, 'ex2-in.json')) as json_file:\n",
    "    json_ex2_in = json.load(json_file)\n",
    "\n",
    "with open(os.path.join(path_to_json, 'ex3-in.json')) as json_file:\n",
    "    json_ex3_in = json.load(json_file)"
   ]
  },
  {
   "cell_type": "markdown",
   "metadata": {},
   "source": [
    "__Assumptions__\n",
    "\n",
    "* We will consider that each driver only works in __one shift__ each day.\n",
    "* Each shift need to be at least of `4h` length.\n",
    "* Each shift cannot be longer than `10h` length.\n",
    "* When we cover the hours of the demand, there might be the case in which we allocate more hours (oversupply). This is an acceptable behavior, but we need to minimise these oversupply hours.\n",
    "\n",
    "__Approach__\n",
    "\n",
    "Since each shift needs to be at least `4h` long and at most `10h` long, we can create all possible shift configurations following this rationale:\n",
    "\n",
    "* __10 hours shift:__ only `3` configurations:\n",
    "```json\n",
    "[1,1,1,1,1,1,1,1,1,1,0,0]\n",
    "[0,1,1,1,1,1,1,1,1,1,1,0]\n",
    "[0,0,1,1,1,1,1,1,1,1,1,1]\n",
    "```\n",
    "* __9 hours shift:__ only `4` configurations:\n",
    "```json\n",
    "[1,1,1,1,1,1,1,1,1,0,0,0]\n",
    "[0,1,1,1,1,1,1,1,1,1,0,0]\n",
    "[0,0,1,1,1,1,1,1,1,1,1,0]\n",
    "[0,0,0,1,1,1,1,1,1,1,1,1]\n",
    "```\n",
    "* And so on until we reach the 4 hours shift ...\n",
    "\n",
    "These configurations can be easily generated by obtaining the unique possible permutations between the the block of zeros and block of ones.\n",
    "\n",
    "For example, we know there are 2 free hours for the `10h` shift (assuming 12 timeslots). Therefore:\n",
    "\n",
    "```python\n",
    "# [1] = 10h shift block\n",
    "permutations(chain.from_iterable([[0,0], [1]]))\n",
    "# [1,0,0]\n",
    "# [0,1,0]\n",
    "# [0,0,1]\n",
    "\n",
    "# now we can replace the [1] block with 10 working hours\n",
    "# [1,1,1,1,1,1,1,1,1,1,0,0]\n",
    "# [0,1,1,1,1,1,1,1,1,1,1,0]\n",
    "# [0,0,1,1,1,1,1,1,1,1,1,1]\n",
    "```\n",
    "We can run these permutations for the 7 different shifts (`4h`, `5h`, `6h`, `7h`, `8h`, `9h` and `10h`) and append all these differents configurations in one array. There are 42 different shift configurations.\n",
    "\n",
    "If we have the following timeslots and demand forecasted:\n",
    "\n",
    "```json\n",
    "{\n",
    "  \"timeslots\": [11, 12, 13, 14, 15, 16, 17, 18, 19, 20, 21, 22],\n",
    "  \"demand\": [0, 1, 1, 1, 1, 5, 5, 5, 5, 5, 5, 1],\n",
    "}\n",
    "```\n",
    "\n",
    "we can conclude that at least we will need 5 drivers to cover the high-demand timeslots. Consequently, we can obtain all possible combinations with replacement of these 42 configurations of groups in 5 (= drivers).\n",
    "\n",
    "In this case there are `1,370,754` possible combinations (with repetition of shifts for all 5 drivers). \n",
    "\n",
    "Now we need to validate that each timeslot is covered by at least the number of drivers informed by the demand forecast. From the new subset of potential shifts that satisfy the demand it is possible to find the shift configuration that minimizes the total amount of hours (i.e., minimizing oversupply hours)."
   ]
  },
  {
   "cell_type": "markdown",
   "metadata": {},
   "source": [
    "# Ex1"
   ]
  },
  {
   "cell_type": "code",
   "execution_count": 4,
   "metadata": {},
   "outputs": [
    {
     "name": "stdout",
     "output_type": "stream",
     "text": [
      "{   u'config': {   u'max_shift_hours': 10,\n",
      "                   u'min_shift_hours': 4,\n",
      "                   u'timeout_sec': 10},\n",
      "    u'demand': [0, 1, 1, 1, 1, 5, 5, 5, 5, 5, 5, 1],\n",
      "    u'solution': {   u'shifts': []},\n",
      "    u'timeslots': [11, 12, 13, 14, 15, 16, 17, 18, 19, 20, 21, 22]}\n"
     ]
    }
   ],
   "source": [
    "pp.pprint(json_ex1_in)"
   ]
  },
  {
   "cell_type": "code",
   "execution_count": 15,
   "metadata": {
    "scrolled": false
   },
   "outputs": [
    {
     "name": "stdout",
     "output_type": "stream",
     "text": [
      "42\n"
     ]
    }
   ],
   "source": [
    "# Variables.\n",
    "n_timeslots = len(json_ex1_in['timeslots'])\n",
    "demand      = json_ex1_in['demand']\n",
    "max_demand  = max(demand)\n",
    "l_total     = []\n",
    "\n",
    "def create_shifts(p, n, l_total):\n",
    "    '''replaces the shift block with the corresponding working hours'''\n",
    "    l = []\n",
    "    for c in p:\n",
    "        l_item = []\n",
    "        for item in c:\n",
    "            if item == 1:\n",
    "                for i in range(0,n):\n",
    "                    l_item.append(1)\n",
    "            else:\n",
    "                l_item.append(0)\n",
    "        l.append(l_item)\n",
    "        \n",
    "    return append_shifts(l, l_total)\n",
    "\n",
    "def append_shifts(s, l):\n",
    "    '''appends each shift to l_total list'''\n",
    "    for shift in s:\n",
    "        l.append(shift)\n",
    "\n",
    "# Creation of all permutations.\n",
    "for i in range(4, 11):\n",
    "    p = list(set(permutations(chain.from_iterable([[0]*(n_timeslots-i), [1]]))))\n",
    "    create_shifts(p, i, l_total)\n",
    "\n",
    "print len(l_total)"
   ]
  },
  {
   "cell_type": "code",
   "execution_count": 6,
   "metadata": {
    "collapsed": true
   },
   "outputs": [],
   "source": [
    "m = list(combinations_with_replacement(l_total, max_demand))"
   ]
  },
  {
   "cell_type": "code",
   "execution_count": 7,
   "metadata": {},
   "outputs": [
    {
     "name": "stdout",
     "output_type": "stream",
     "text": [
      "All possible sets of shifts configurations: 1,370,754\n"
     ]
    }
   ],
   "source": [
    "print '\\nAll possible sets of shifts configurations:', \"{:,}\".format(len(m)) # check"
   ]
  },
  {
   "cell_type": "code",
   "execution_count": 8,
   "metadata": {
    "scrolled": false
   },
   "outputs": [
    {
     "name": "stdout",
     "output_type": "stream",
     "text": [
      "Potential sets of shifts that satisfy demand: 425\n"
     ]
    }
   ],
   "source": [
    "ll = []\n",
    "\n",
    "def potential_shifts(m, demand, ll):\n",
    "    \"\"\"Find all sets of shifts that satisfy demand\"\"\"\n",
    "    for c in m:\n",
    "        ll.append(c)\n",
    "        for idx, val in enumerate(demand):\n",
    "            s = [w[idx] for w in c]\n",
    "            b = (sum(s)>=val)\n",
    "            if b == False:\n",
    "                ll = ll[:-1]\n",
    "                break\n",
    "    return ll\n",
    "\n",
    "ll = potential_shifts(m, demand, ll)\n",
    "\n",
    "print 'Potential sets of shifts that satisfy demand:', len(ll)"
   ]
  },
  {
   "cell_type": "code",
   "execution_count": 9,
   "metadata": {
    "scrolled": false
   },
   "outputs": [
    {
     "name": "stdout",
     "output_type": "stream",
     "text": [
      "(   [0, 0, 0, 0, 0, 1, 1, 1, 1, 1, 1, 0],\n",
      "    [0, 0, 0, 0, 0, 1, 1, 1, 1, 1, 1, 0],\n",
      "    [0, 0, 0, 0, 0, 1, 1, 1, 1, 1, 1, 0],\n",
      "    [0, 0, 0, 0, 0, 1, 1, 1, 1, 1, 1, 1],\n",
      "    [0, 1, 1, 1, 1, 1, 1, 1, 1, 1, 1, 0])\n"
     ]
    }
   ],
   "source": [
    "ll_m = []\n",
    "nh   = []\n",
    "\n",
    "# Calculate total number of hours worked for each set of shifts.\n",
    "for l in ll:\n",
    "    n_hours = sum([sum(w) for w in l])\n",
    "    nh.append(n_hours)\n",
    "    ll_m.append((n_hours, l))\n",
    "\n",
    "# Create a dataframe to filter the minimum.\n",
    "df_shifts = pd.DataFrame(ll_m, columns=['nhours','shift'])\n",
    "\n",
    "for r in df_shifts[df_shifts['nhours']==df_shifts['nhours'].min()]['shift']:\n",
    "    pp.pprint(r)\n"
   ]
  },
  {
   "cell_type": "markdown",
   "metadata": {},
   "source": [
    "We can compare our result with the one given (`ex1-out.json`)"
   ]
  },
  {
   "cell_type": "code",
   "execution_count": 10,
   "metadata": {},
   "outputs": [
    {
     "name": "stdout",
     "output_type": "stream",
     "text": [
      "[   [0, 1, 1, 1, 1, 1, 1, 1, 1, 1, 1, 0],\n",
      "    [0, 0, 0, 0, 0, 1, 1, 1, 1, 1, 1, 1],\n",
      "    [0, 0, 0, 0, 0, 1, 1, 1, 1, 1, 1, 0],\n",
      "    [0, 0, 0, 0, 0, 1, 1, 1, 1, 1, 1, 0],\n",
      "    [0, 0, 0, 0, 0, 1, 1, 1, 1, 1, 1, 0]]\n"
     ]
    }
   ],
   "source": [
    "pp.pprint(json_ex1_out['solution']['shifts'])"
   ]
  },
  {
   "cell_type": "markdown",
   "metadata": {},
   "source": [
    "We have arrived to the same solution following this rationale."
   ]
  },
  {
   "cell_type": "markdown",
   "metadata": {},
   "source": [
    "# Ex2 "
   ]
  },
  {
   "cell_type": "code",
   "execution_count": 11,
   "metadata": {},
   "outputs": [
    {
     "name": "stdout",
     "output_type": "stream",
     "text": [
      "{   u'config': {   u'max_shift_hours': 10,\n",
      "                   u'min_shift_hours': 4,\n",
      "                   u'timeout_sec': 10},\n",
      "    u'demand': [0, 9, 9, 9, 16, 16, 17, 17, 17, 17, 17, 17, 6],\n",
      "    u'solution': {   u'shifts': []},\n",
      "    u'timeslots': [11, 12, 13, 14, 15, 16, 17, 18, 19, 20, 21, 22, 23]}\n"
     ]
    }
   ],
   "source": [
    "pp.pprint(json_ex2_in)"
   ]
  },
  {
   "cell_type": "code",
   "execution_count": 14,
   "metadata": {},
   "outputs": [
    {
     "name": "stdout",
     "output_type": "stream",
     "text": [
      "\n",
      "49\n"
     ]
    }
   ],
   "source": [
    "# Variables.\n",
    "n_timeslots = len(json_ex2_in['timeslots'])\n",
    "demand      = json_ex2_in['demand']\n",
    "max_demand  = max(demand)\n",
    "l_total     = []\n",
    "\n",
    "# Creation of all permutations.\n",
    "for i in range(4, 11):\n",
    "    p = list(set(permutations(chain.from_iterable([[0]*(n_timeslots-i), [1]]))))\n",
    "    create_shifts(p, i, l_total)\n",
    "\n",
    "print \"\\n\", len(l_total)"
   ]
  },
  {
   "cell_type": "code",
   "execution_count": 13,
   "metadata": {},
   "outputs": [
    {
     "name": "stdout",
     "output_type": "stream",
     "text": [
      "\n",
      "1,867,897,112,363,100 combinations\n"
     ]
    }
   ],
   "source": [
    "# the number of items returned\n",
    "n = 49\n",
    "r = 17\n",
    "\n",
    "print \"\\n\", \"{:,}\".format(math.factorial(n+r-1)/math.factorial(r)/math.factorial(n-1)), \"combinations\""
   ]
  },
  {
   "cell_type": "markdown",
   "metadata": {},
   "source": [
    "This order of magnitude cannot be handled and it is necessary to find a better approach: __Constraint optimisation__\n",
    "\n",
    "Please see the second jupyter notebook `optimisation_2` for the implementation of this methodology."
   ]
  }
 ],
 "metadata": {
  "kernelspec": {
   "display_name": "Python 2",
   "language": "python",
   "name": "python2"
  },
  "language_info": {
   "codemirror_mode": {
    "name": "ipython",
    "version": 2
   },
   "file_extension": ".py",
   "mimetype": "text/x-python",
   "name": "python",
   "nbconvert_exporter": "python",
   "pygments_lexer": "ipython2",
   "version": "2.7.9"
  }
 },
 "nbformat": 4,
 "nbformat_minor": 2
}
